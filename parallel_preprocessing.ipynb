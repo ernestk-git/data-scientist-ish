{
 "cells": [
  {
   "cell_type": "code",
   "execution_count": 56,
   "metadata": {
    "scrolled": true
   },
   "outputs": [],
   "source": [
    "import pandas as pd\n",
    "import numpy as np\n",
    "import dask.dataframe as dd\n",
    "import datetime\n",
    "import random\n",
    "import string\n",
    "import matplotlib.pyplot as plt\n",
    "import seaborn as sns\n",
    "\n",
    "\n",
    "from numba import jit\n",
    "from multiprocessing import cpu_count\n",
    "from dask.multiprocessing import get\n",
    "\n",
    "nCores = cpu_count()\n",
    "sns.set()"
   ]
  },
  {
   "cell_type": "markdown",
   "metadata": {},
   "source": [
    "## Initializing Data\n",
    "\n",
    "The computer I primarily use has 32GB of RAM (DDR4-3200,CAS14).  Additionally, I created a 64GB swap file partition on a Samsung 960 Evo M.2 Flash Drive (if anyone has any experience using Intel 3D XPoint for this, let me know about your experiences).  I wanted to create a dataframe that exceeded 32GB in memory to test the efficacy of Pandas vs Dask vs Spark.  The following parameters should accomplish that with 100 million rows.\n",
    "\n",
    "The \"data\" contains a random date between 1900 and 2000, a random float between 0 and 1, a random int between 0 and 3333, a \"categorical\" string of [a-z], and two random geo points, one slightly off the other.\n",
    "\n",
    "The random int column, `c2`, contains `NaN` values, 2% of the total."
   ]
  },
  {
   "cell_type": "code",
   "execution_count": 84,
   "metadata": {},
   "outputs": [],
   "source": [
    "nRows = 10000000\n",
    "startdate = datetime.date(1900,1,1)\n",
    "geoCenter = (40.723270, -73.988371)"
   ]
  },
  {
   "cell_type": "code",
   "execution_count": 85,
   "metadata": {},
   "outputs": [],
   "source": [
    "### initializing random data\n",
    "data = pd.DataFrame({'date':[startdate + datetime.timedelta(int(i)) for i in np.random.randint(1,36524,size=nRows)],\n",
    "                     'c1':np.random.rand(nRows),\n",
    "                     'c2':np.random.randint(0,3333,nRows),\n",
    "                     'c3':[random.choice(string.ascii_letters).lower() for i in range(nRows)],\n",
    "                     'lat_1':np.random.rand(nRows) + geoCenter[0],\n",
    "                     'lon_1':np.random.rand(nRows) + geoCenter[1]\n",
    "                    })\n",
    "\n",
    "data['lat_2'] = data['lat_1']\n",
    "data['lon_2'] = data['lon_1'] + 0.003\n",
    "\n",
    "data.date = pd.to_datetime(data.date)\n",
    "\n",
    "### picking random null values\n",
    "data.loc[data.sample(frac=.02).index,'c2'] = np.nan"
   ]
  },
  {
   "cell_type": "code",
   "execution_count": 86,
   "metadata": {},
   "outputs": [],
   "source": [
    "data.to_feather('/tmp/data')"
   ]
  },
  {
   "cell_type": "code",
   "execution_count": null,
   "metadata": {},
   "outputs": [],
   "source": [
    "data = pd.read_feather('/tmp/data')"
   ]
  },
  {
   "cell_type": "code",
   "execution_count": 75,
   "metadata": {},
   "outputs": [],
   "source": [
    "data_dd = dd.from_pandas(data,npartitions=4, sort=False)"
   ]
  },
  {
   "cell_type": "markdown",
   "metadata": {},
   "source": [
    "## Data Pre-Processing Steps\n",
    "\n",
    "### Dates\n",
    "\n",
    "In column `date` we have datetime objects as if they had been parsed by pandas `read_csv` with `parse_dates`.  These are YYYY-MM-DD style, with no additional time information.\n",
    "\n",
    "In most machine learning algorithims, we would want to separate out the individual components of a date into their own feature.  For this date, we will create five features: the year, month, week, day, and day of the week.\n",
    "\n",
    "### Filling Missing Values\n",
    "\n",
    "\n",
    "### Encoding Categorical Variables\n",
    "\n"
   ]
  },
  {
   "cell_type": "markdown",
   "metadata": {},
   "source": [
    "## Python, Pandas, Single-Processor\n",
    "\n",
    "The following function extracts the various parts of time from a datetime column and returns the original dataframe with the new features:"
   ]
  },
  {
   "cell_type": "code",
   "execution_count": 47,
   "metadata": {},
   "outputs": [],
   "source": [
    "### input: dataframe, column of datetime objects, desired list of time-interval features\n",
    "### output: dataframe with new time-interval features appended\n",
    "def date_extractor(df, dateCol, interval=['year','month','week','day','dayofweek']):\n",
    "    df.is_copy = False # we're not dealing with copies, this avoids the warning\n",
    "    for i in interval:\n",
    "        df.loc[:,i] = eval('df.%s.dt.%s'% (dateCol,i))\n",
    "    return df"
   ]
  },
  {
   "cell_type": "code",
   "execution_count": 110,
   "metadata": {
    "scrolled": false
   },
   "outputs": [
    {
     "name": "stdout",
     "output_type": "stream",
     "text": [
      "Size: 1\n",
      "7.44 ms ± 986 µs per loop (mean ± std. dev. of 3 runs, 1 loop each)\n",
      "Size: 10\n",
      "6.86 ms ± 1.44 ms per loop (mean ± std. dev. of 3 runs, 1 loop each)\n",
      "Size: 100\n",
      "6.25 ms ± 584 µs per loop (mean ± std. dev. of 3 runs, 1 loop each)\n",
      "Size: 1000\n",
      "5.9 ms ± 279 µs per loop (mean ± std. dev. of 3 runs, 1 loop each)\n",
      "Size: 10000\n",
      "10 ms ± 487 µs per loop (mean ± std. dev. of 3 runs, 1 loop each)\n",
      "Size: 100000\n",
      "52.9 ms ± 1.86 ms per loop (mean ± std. dev. of 3 runs, 1 loop each)\n",
      "Size: 1000000\n",
      "562 ms ± 10.2 ms per loop (mean ± std. dev. of 3 runs, 1 loop each)\n",
      "Size: 10000000\n",
      "6.2 s ± 19.4 ms per loop (mean ± std. dev. of 3 runs, 1 loop each)\n",
      "Size: 100000000\n",
      "6.17 s ± 7.46 ms per loop (mean ± std. dev. of 3 runs, 1 loop each)\n"
     ]
    }
   ],
   "source": [
    "results_dates = pd.DataFrame({'pandas':[],\n",
    "                                     'nRows':[]\n",
    "                                    })\n",
    "\n",
    "for i,nIter in enumerate(10 ** np.arange(0,9)): \n",
    "    print('Size: %s'% nIter)\n",
    "    out1_ = %timeit -n 1 -r 3 -o _ = date_extractor(data.head(nIter),'date')\n",
    "    row = {'pandas':out1_.average,\n",
    "           'nRows':nIter\n",
    "          }\n",
    "    results_dates.loc[i] = row"
   ]
  },
  {
   "cell_type": "code",
   "execution_count": null,
   "metadata": {},
   "outputs": [],
   "source": [
    "from pyspark import SparkContext, SparkConf\n",
    "\n",
    "conf = SparkConf().setMaster('local[*]').setAppName('parallel_preprocessing')\n",
    "sc = SparkContext.getOrCreate(conf=conf)"
   ]
  },
  {
   "cell_type": "code",
   "execution_count": 107,
   "metadata": {
    "scrolled": true
   },
   "outputs": [
    {
     "data": {
      "text/plain": [
       "<matplotlib.legend.Legend at 0x7f6f91c6c400>"
      ]
     },
     "execution_count": 107,
     "metadata": {},
     "output_type": "execute_result"
    },
    {
     "data": {
      "image/png": "[encoded data removed]",
      "text/plain": [
       "<matplotlib.figure.Figure at 0x7f6f90166f98>"
      ]
     },
     "metadata": {},
     "output_type": "display_data"
    }
   ],
   "source": [
    "fig, ax = plt.subplots()\n",
    "ax.plot((results_dates_pandas.nRows), results_dates_pandas.pandas, label='Python')\n",
    "ax.set_xlabel(\"Rows\")\n",
    "ax.set_ylabel(\"Time(Seconds)\")\n",
    "ax.set_xscale('log')\n",
    "ax.axis([1,10000000,0,3])\n",
    "ax.legend()\n",
    "#fig.savefig('./python_numba_only.png',dpi=300)"
   ]
  },
  {
   "cell_type": "code",
   "execution_count": null,
   "metadata": {},
   "outputs": [],
   "source": []
  }
 ],
 "metadata": {
  "kernelspec": {
   "display_name": "Python 3",
   "language": "python",
   "name": "python3"
  },
  "language_info": {
   "codemirror_mode": {
    "name": "ipython",
    "version": 3
   },
   "file_extension": ".py",
   "mimetype": "text/x-python",
   "name": "python",
   "nbconvert_exporter": "python",
   "pygments_lexer": "ipython3",
   "version": "3.6.4"
  }
 },
 "nbformat": 4,
 "nbformat_minor": 2
}
