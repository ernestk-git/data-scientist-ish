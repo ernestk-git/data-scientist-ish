{
 "cells": [
  {
   "cell_type": "code",
   "execution_count": 239,
   "metadata": {},
   "outputs": [],
   "source": [
    "import pandas as pd\n",
    "import numpy as np\n",
    "import matplotlib.pyplot as plt\n",
    "\n",
    "import torch\n",
    "\n",
    "from numba import jit"
   ]
  },
  {
   "cell_type": "code",
   "execution_count": 227,
   "metadata": {},
   "outputs": [],
   "source": [
    "test = np.random.rand(10_000)"
   ]
  },
  {
   "cell_type": "code",
   "execution_count": 223,
   "metadata": {},
   "outputs": [],
   "source": [
    "def bin_data(data, numBins = 5, minMax = (0,1)):\n",
    "    stepSize = (minMax[1] - minMax[0]) / numBins\n",
    "    binned = np.digitize(data, np.arange(minMax[0] + stepSize,minMax[1] + stepSize,stepSize))\n",
    "\n",
    "    mapping = dict(zip(np.arange(0,numBins), \n",
    "                       np.round(np.arange(minMax[0] + stepSize/2,minMax[1],stepSize), 8)))\n",
    "\n",
    "    return binned, mapping"
   ]
  },
  {
   "cell_type": "code",
   "execution_count": 237,
   "metadata": {},
   "outputs": [],
   "source": [
    "results = [0]*20\n",
    "for i in range(1,21):\n",
    "    test_bin, test_map = bin_data(test, i)\n",
    "    \n",
    "    _ = np.array([0.0]*test.shape[0])\n",
    "    for j,val in enumerate(test_bin):\n",
    "        _[j] = test_map[val]\n",
    "        \n",
    "    results[i-1]=(np.sum((test - _)**2) / test.shape[0])"
   ]
  },
  {
   "cell_type": "code",
   "execution_count": 230,
   "metadata": {},
   "outputs": [],
   "source": [
    "_ = np.array([0.0]*test.shape[0])\n",
    "for i,val in enumerate(test_bin):\n",
    "    _[i] = test_map[val]"
   ]
  },
  {
   "cell_type": "code",
   "execution_count": null,
   "metadata": {},
   "outputs": [],
   "source": []
  }
 ],
 "metadata": {
  "kernelspec": {
   "display_name": "Python 3",
   "language": "python",
   "name": "python3"
  },
  "language_info": {
   "codemirror_mode": {
    "name": "ipython",
    "version": 3
   },
   "file_extension": ".py",
   "mimetype": "text/x-python",
   "name": "python",
   "nbconvert_exporter": "python",
   "pygments_lexer": "ipython3",
   "version": "3.6.4"
  }
 },
 "nbformat": 4,
 "nbformat_minor": 2
}
